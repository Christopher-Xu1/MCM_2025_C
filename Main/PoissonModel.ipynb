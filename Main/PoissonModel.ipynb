{
 "cells": [
  {
   "cell_type": "code",
   "execution_count": 21,
   "metadata": {},
   "outputs": [
    {
     "name": "stdout",
     "output_type": "stream",
     "text": [
      "Current Working Directory: /Users/chris/MCM_2025_C/Main\n"
     ]
    },
    {
     "ename": "NameError",
     "evalue": "name 'data' is not defined",
     "output_type": "error",
     "traceback": [
      "\u001b[0;31m---------------------------------------------------------------------------\u001b[0m",
      "\u001b[0;31mNameError\u001b[0m                                 Traceback (most recent call last)",
      "Cell \u001b[0;32mIn[21], line 22\u001b[0m\n\u001b[1;32m     19\u001b[0m independent_vars \u001b[38;5;241m=\u001b[39m [\u001b[38;5;124m'\u001b[39m\u001b[38;5;124mGDP\u001b[39m\u001b[38;5;124m'\u001b[39m, \u001b[38;5;124m'\u001b[39m\u001b[38;5;124mPopulation\u001b[39m\u001b[38;5;124m'\u001b[39m, \u001b[38;5;124m'\u001b[39m\u001b[38;5;124mSports_Investment\u001b[39m\u001b[38;5;124m'\u001b[39m, \u001b[38;5;124m'\u001b[39m\u001b[38;5;124mNumber_of_Athletes\u001b[39m\u001b[38;5;124m'\u001b[39m, \u001b[38;5;124m'\u001b[39m\u001b[38;5;124mIs_Host\u001b[39m\u001b[38;5;124m'\u001b[39m, \u001b[38;5;124m'\u001b[39m\u001b[38;5;124mNumber_of_Sports\u001b[39m\u001b[38;5;124m'\u001b[39m, \u001b[38;5;124m'\u001b[39m\u001b[38;5;124mTotal_Events\u001b[39m\u001b[38;5;124m'\u001b[39m]\n\u001b[1;32m     21\u001b[0m \u001b[38;5;66;03m# Prepare data\u001b[39;00m\n\u001b[0;32m---> 22\u001b[0m X \u001b[38;5;241m=\u001b[39m \u001b[43mdata\u001b[49m[independent_vars]\n\u001b[1;32m     23\u001b[0m X \u001b[38;5;241m=\u001b[39m sm\u001b[38;5;241m.\u001b[39madd_constant(X)\n\u001b[1;32m     24\u001b[0m y \u001b[38;5;241m=\u001b[39m data[dependent_var]\n",
      "\u001b[0;31mNameError\u001b[0m: name 'data' is not defined"
     ]
    }
   ],
   "source": [
    "import pandas as pd\n",
    "import numpy as np\n",
    "import statsmodels.api as sm\n",
    "from sklearn.model_selection import train_test_split\n",
    "from sklearn.metrics import mean_absolute_error, mean_squared_error\n",
    "import os\n",
    "\n",
    "# Get current working directory\n",
    "current_dir = os.getcwd()\n",
    "print(f\"Current Working Directory: {current_dir}\")\n",
    "\n",
    "# Load the data\n",
    "medal_counts = pd.read_csv('/Users/chris/MCM_2025_C/Data/summerOly_medal_counts.csv')\n",
    "programs = pd.read_csv('/Users/chris/MCM_2025_C/Data/summerOly_programs.csv')\n",
    "hosts = pd.read_csv('/Users/chris/MCM_2025_C/Data/summerOly_programs.csv')\n",
    "3\n",
    "# Define dependent and independent variables\n",
    "dependent_var = 'Medal_Count'\n",
    "independent_vars = ['Number_of_Athletes', 'Is_Host', 'Number_of_Sports', 'Total_Events']\n",
    "\n",
    "# Prepare data\n",
    "X = data[independent_vars]\n",
    "X = sm.add_constant(X)\n",
    "y = data[dependent_var]\n",
    "\n",
    "# Split data\n",
    "X_train, X_test, y_train, y_test = train_test_split(X, y, test_size=0.2, random_state=42)\n",
    "\n",
    "# Fit Poisson regression\n",
    "poisson_model = sm.GLM(y_train, X_train, family=sm.families.Poisson()).fit()\n",
    "print(poisson_model.summary())\n",
    "\n",
    "# Predict on test set\n",
    "y_pred_poisson = poisson_model.predict(X_test)\n",
    "\n"
   ]
  },
  {
   "cell_type": "markdown",
   "metadata": {},
   "source": [
    "Adjust Predictions for Fixed Medal Counts:"
   ]
  },
  {
   "cell_type": "code",
   "execution_count": null,
   "metadata": {},
   "outputs": [],
   "source": [
    "import scipy.stats as stats\n",
    "\n",
    "# Assume 'events_list' contains all unique events\n",
    "events_list = data['Event'].unique()\n",
    "medal_types = ['Gold', 'Silver', 'Bronze']\n",
    "final_medal_counts = pd.DataFrame(columns=['Country', 'Medal_Type', 'Medal_Count'])\n",
    "\n",
    "for event in events_list:\n",
    "    event_data = data[data['Event'] == event]\n",
    "    for medal in medal_types:\n",
    "        # Filter data for the current event\n",
    "        event_medal_data = event_data[event_data['Medal_Type'] == medal]\n",
    "\n",
    "        # Define X for this subset\n",
    "        X_event = event_medal_data[independent_vars]\n",
    "        X_event = sm.add_constant(X_event)\n",
    "\n",
    "        # Predict expected counts\n",
    "        expected_counts = poisson_model.predict(X_event)\n",
    "\n",
    "        # Convert expected counts to probabilities\n",
    "        probabilities = expected_counts / expected_counts.sum()\n",
    "\n",
    "        # Handle cases where sum(expected_counts) is zero\n",
    "        if expected_counts.sum() == 0:\n",
    "            probabilities = np.ones(len(expected_counts)) / len(expected_counts)\n",
    "\n",
    "        # Assign the medal based on probabilities\n",
    "        assigned_country = np.random.choice(event_medal_data['Country'], size=1, p=probabilities)\n",
    "\n",
    "        # Update final medal counts\n",
    "        for country in assigned_country:\n",
    "            final_medal_counts = final_medal_counts.append({'Country': country, 'Medal_Type': medal, 'Medal_Count': 1}, ignore_index=True)\n",
    "\n",
    "# Aggregate medal counts per country\n",
    "aggregated_medal_counts = final_medal_counts.groupby(['Country', 'Medal_Type']).sum().unstack(fill_value=0)\n",
    "aggregated_medal_counts.columns = aggregated_medal_counts.columns.get_level_values(1)\n",
    "aggregated_medal_counts['Total'] = aggregated_medal_counts.sum(axis=1)\n",
    "\n",
    "# View the final medal counts\n",
    "print(aggregated_medal_counts.head())\n"
   ]
  },
  {
   "cell_type": "markdown",
   "metadata": {},
   "source": [
    "## Predicitons and Model Evaluation"
   ]
  },
  {
   "cell_type": "code",
   "execution_count": null,
   "metadata": {},
   "outputs": [],
   "source": [
    "import scipy.stats as stats\n",
    "\n",
    "# Assume 'events_list' contains all unique events\n",
    "events_list = data['Event'].unique()\n",
    "medal_types = ['Gold', 'Silver', 'Bronze']\n",
    "final_medal_counts = pd.DataFrame(columns=['Country', 'Medal_Type', 'Medal_Count'])\n",
    "\n",
    "for event in events_list:\n",
    "    event_data = data[data['Event'] == event]\n",
    "    for medal in medal_types:\n",
    "        # Filter data for the current event\n",
    "        event_medal_data = event_data[event_data['Medal_Type'] == medal]\n",
    "\n",
    "        # Define X for this subset\n",
    "        X_event = event_medal_data[independent_vars]\n",
    "        X_event = sm.add_constant(X_event)\n",
    "\n",
    "        # Predict expected counts\n",
    "        expected_counts = poisson_model.predict(X_event)\n",
    "\n",
    "        # Convert expected counts to probabilities\n",
    "        probabilities = expected_counts / expected_counts.sum()\n",
    "\n",
    "        # Handle cases where sum(expected_counts) is zero\n",
    "        if expected_counts.sum() == 0:\n",
    "            probabilities = np.ones(len(expected_counts)) / len(expected_counts)\n",
    "\n",
    "        # Assign the medal based on probabilities\n",
    "        assigned_country = np.random.choice(event_medal_data['Country'], size=1, p=probabilities)\n",
    "\n",
    "        # Update final medal counts\n",
    "        for country in assigned_country:\n",
    "            final_medal_counts = final_medal_counts.append({'Country': country, 'Medal_Type': medal, 'Medal_Count': 1}, ignore_index=True)\n",
    "\n",
    "# Aggregate medal counts per country\n",
    "aggregated_medal_counts = final_medal_counts.groupby(['Country', 'Medal_Type']).sum().unstack(fill_value=0)\n",
    "aggregated_medal_counts.columns = aggregated_medal_counts.columns.get_level_values(1)\n",
    "aggregated_medal_counts['Total'] = aggregated_medal_counts.sum(axis=1)\n",
    "\n",
    "# View the final medal counts\n",
    "print(aggregated_medal_counts.head())\n"
   ]
  },
  {
   "cell_type": "code",
   "execution_count": null,
   "metadata": {},
   "outputs": [],
   "source": [
    "num_simulations = 1000\n",
    "simulation_results = []\n",
    "\n",
    "for _ in range(num_simulations):\n",
    "    temp_medal_counts = pd.DataFrame(columns=['Country', 'Medal_Type', 'Medal_Count'])\n",
    "    for event in events_list:\n",
    "        event_data = data[data['Event'] == event]\n",
    "        for medal in medal_types:\n",
    "            event_medal_data = event_data[event_data['Medal_Type'] == medal]\n",
    "            X_event = event_medal_data[independent_vars]\n",
    "            X_event = sm.add_constant(X_event)\n",
    "            expected_counts = poisson_model.predict(X_event)\n",
    "            probabilities = expected_counts / expected_counts.sum() if expected_counts.sum() > 0 else np.ones(len(expected_counts)) / len(expected_counts)\n",
    "            assigned_country = np.random.choice(event_medal_data['Country'], size=1, p=probabilities)\n",
    "            for country in assigned_country:\n",
    "                temp_medal_counts = temp_medal_counts.append({'Country': country, 'Medal_Type': medal, 'Medal_Count': 1}, ignore_index=True)\n",
    "    aggregated_temp = temp_medal_counts.groupby(['Country', 'Medal_Type']).sum().unstack(fill_value=0)\n",
    "    aggregated_temp.columns = aggregated_temp.columns.get_level_values(1)\n",
    "    aggregated_temp['Total'] = aggregated_temp.sum(axis=1)\n",
    "    simulation_results.append(aggregated_temp['Total'])\n",
    "\n",
    "# Convert to DataFrame\n",
    "simulation_df = pd.DataFrame(simulation_results)\n",
    "\n",
    "# Calculate prediction intervals\n",
    "prediction_intervals = simulation_df.quantile([0.025, 0.5, 0.975]).T\n",
    "prediction_intervals.columns = ['Lower_95%', 'Median', 'Upper_95%']\n",
    "\n",
    "# Merge with final counts\n",
    "final_with_intervals = aggregated_medal_counts.join(prediction_intervals)\n",
    "\n",
    "print(final_with_intervals.head())\n"
   ]
  }
 ],
 "metadata": {
  "kernelspec": {
   "display_name": "Python 3",
   "language": "python",
   "name": "python3"
  },
  "language_info": {
   "codemirror_mode": {
    "name": "ipython",
    "version": 3
   },
   "file_extension": ".py",
   "mimetype": "text/x-python",
   "name": "python",
   "nbconvert_exporter": "python",
   "pygments_lexer": "ipython3",
   "version": "3.12.4"
  }
 },
 "nbformat": 4,
 "nbformat_minor": 2
}
