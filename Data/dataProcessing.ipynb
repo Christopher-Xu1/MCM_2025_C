{
 "cells": [
  {
   "cell_type": "code",
   "execution_count": 11,
   "metadata": {},
   "outputs": [
    {
     "name": "stderr",
     "output_type": "stream",
     "text": [
      "/var/folders/1r/p0099vj56q316wtcq3g9r2f40000gn/T/ipykernel_2809/2701912138.py:31: DtypeWarning: Columns (4) have mixed types. Specify dtype option on import or set low_memory=False.\n",
      "  data = pd.read_csv(file_path, header=None, names=[\n"
     ]
    },
    {
     "name": "stdout",
     "output_type": "stream",
     "text": [
      "Processed data has been saved to the 'processed_olympics_data' directory.\n"
     ]
    }
   ],
   "source": [
    "import pandas as pd\n",
    "import os\n",
    "import re\n",
    "\n",
    "# Function to sanitize filenames by replacing invalid characters with underscores\n",
    "def sanitize_filename(name):\n",
    "    \"\"\"\n",
    "    Replace any character that is not a word character, hyphen, or underscore with an underscore.\n",
    "    \n",
    "    Parameters:\n",
    "        name (str): The original filename string.\n",
    "        \n",
    "    Returns:\n",
    "        str: The sanitized filename string.\n",
    "    \"\"\"\n",
    "    return re.sub(r'[^\\w\\-]', '_', name)\n",
    "\n",
    "# Define a mapping for country name standardization\n",
    "country_mapping = {\n",
    "    \"USA\": \"United States\",\n",
    "    \"U.S.A.\": \"United States\",\n",
    "    \"Great Britain\": \"United Kingdom\",\n",
    "    \"Soviet Union\": \"Russia\",\n",
    "    \"Ain\": \"Russia\"  # Added as per your mapping\n",
    "    # Add more mappings if necessary\n",
    "}\n",
    "\n",
    "# Load the data\n",
    "file_path = \"summerOly_athletes.csv\"  # Replace with your actual file path\n",
    "try:\n",
    "    data = pd.read_csv(file_path, header=None, names=[\n",
    "        \"Athlete\", \"Gender\", \"Country\", \"Country Code\", \"Year\", \"City\", \n",
    "        \"Sport\", \"Event\", \"Medal\"\n",
    "    ])\n",
    "except FileNotFoundError:\n",
    "    print(f\"Error: The file '{file_path}' does not exist.\")\n",
    "    exit(1)\n",
    "\n",
    "# Normalize and map country names to ensure consistency\n",
    "data[\"Country\"] = data[\"Country\"].str.strip().str.title()\n",
    "data[\"Country\"] = data[\"Country\"].replace(country_mapping)\n",
    "\n",
    "# Create a directory to save the output files\n",
    "output_dir = \"processed_olympics_data\"\n",
    "os.makedirs(output_dir, exist_ok=True)\n",
    "\n",
    "# Process data by grouping\n",
    "for (country, sport, gender), group in data.groupby([\"Country\", \"Sport\", \"Gender\"]):\n",
    "    # Sanitize country and sport names to avoid invalid characters\n",
    "    country_sanitized = sanitize_filename(country)\n",
    "    sport_sanitized = sanitize_filename(sport)\n",
    "    gender_label = \"mens\" if gender == \"M\" else \"womens\"\n",
    "\n",
    "    # Construct the filename\n",
    "    filename = f\"{country_sanitized}_{sport_sanitized}_{gender_label}.csv\"\n",
    "    filepath = os.path.join(output_dir, filename)\n",
    "\n",
    "    # Add meta-label for athletes competing multiple times\n",
    "    group[\"Multiple Events\"] = group[\"Athlete\"].duplicated(keep=False)\n",
    "\n",
    "    try:\n",
    "        # Save the group to its CSV file\n",
    "        group.to_csv(filepath, index=False)\n",
    "    except OSError as e:\n",
    "        print(f\"Error saving file '{filepath}': {e}\")\n",
    "\n",
    "print(f\"Processed data has been saved to the '{output_dir}' directory.\")\n"
   ]
  }
 ],
 "metadata": {
  "kernelspec": {
   "display_name": "Python 3",
   "language": "python",
   "name": "python3"
  },
  "language_info": {
   "codemirror_mode": {
    "name": "ipython",
    "version": 3
   },
   "file_extension": ".py",
   "mimetype": "text/x-python",
   "name": "python",
   "nbconvert_exporter": "python",
   "pygments_lexer": "ipython3",
   "version": "3.12.4"
  }
 },
 "nbformat": 4,
 "nbformat_minor": 2
}
