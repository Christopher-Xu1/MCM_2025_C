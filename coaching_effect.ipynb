{
 "cells": [
  {
   "cell_type": "code",
   "execution_count": 13,
   "metadata": {},
   "outputs": [],
   "source": [
    "import pandas as pd\n",
    "import os\n",
    "import re\n",
    "\n",
    "def load_and_prepare_data():\n",
    "    # Define paths\n",
    "    combined_path = os.path.join('data', 'combined_data.csv')\n",
    "    \n",
    "    # Load combined data\n",
    "    if not os.path.exists(combined_path):\n",
    "        # If combined data doesn't exist, run data_processing.py or handle accordingly\n",
    "        from data_processing import main as data_processing_main\n",
    "        data_processing_main()\n",
    "    \n",
    "    data = pd.read_csv(combined_path)\n",
    "    \n",
    "    return data\n"
   ]
  },
  {
   "cell_type": "code",
   "execution_count": 14,
   "metadata": {},
   "outputs": [],
   "source": [
    "def aggregate_medal_counts(data):\n",
    "    \"\"\"\n",
    "    Aggregates medal counts by Country, Sport, Gender, and Year.\n",
    "    \"\"\"\n",
    "    # Count medals excluding 'No medal'\n",
    "    medal_counts = data[data[\"Medal\"] != \"No medal\"].groupby(\n",
    "        [\"Country\", \"Sport\", \"Gender\", \"Year\"]\n",
    "    )[\"Medal\"].count().reset_index(name=\"Medal Count\")\n",
    "    \n",
    "    return medal_counts"
   ]
  },
  {
   "cell_type": "code",
   "execution_count": 15,
   "metadata": {},
   "outputs": [],
   "source": [
    "def identify_significant_increases(medal_counts, threshold=50):\n",
    "    \"\"\"\n",
    "    Identifies significant increases in medal counts.\n",
    "    \"\"\"\n",
    "    significant = medal_counts[medal_counts[\"Medal Change %\"] > threshold]\n",
    "    return significant"
   ]
  },
  {
   "cell_type": "code",
   "execution_count": 16,
   "metadata": {},
   "outputs": [],
   "source": [
    "def calculate_percentage_change(medal_counts):\n",
    "    \"\"\"\n",
    "    Calculates year-over-year percentage change in medal counts.\n",
    "    \"\"\"\n",
    "    medal_counts = medal_counts.sort_values([\"Country\", \"Sport\", \"Gender\", \"Year\"])\n",
    "    medal_counts[\"Medal Change %\"] = medal_counts.groupby(\n",
    "        [\"Country\", \"Sport\", \"Gender\"]\n",
    "    )[\"Medal Count\"].pct_change() * 100\n",
    "    return medal_counts"
   ]
  },
  {
   "cell_type": "code",
   "execution_count": 17,
   "metadata": {},
   "outputs": [],
   "source": [
    "def merge_medal_athlete_counts(medal_counts, athlete_counts):\n",
    "    \"\"\"\n",
    "    Merges medal counts with athlete counts.\n",
    "    \"\"\"\n",
    "    merged = pd.merge(\n",
    "        medal_counts,\n",
    "        athlete_counts,\n",
    "        on=[\"Country\", \"Sport\", \"Gender\", \"Year\"],\n",
    "        how=\"left\"\n",
    "    )\n",
    "    return merged\n"
   ]
  },
  {
   "cell_type": "code",
   "execution_count": 18,
   "metadata": {},
   "outputs": [],
   "source": [
    "def filter_potential_coach_effect(merged_data, medal_increase_threshold=50, athlete_change_threshold=10):\n",
    "    \"\"\"\n",
    "    Filters the data to identify potential 'great coach' effects.\n",
    "    \"\"\"\n",
    "    potential = merged_data[\n",
    "        (merged_data[\"Medal Change %\"] > medal_increase_threshold) &\n",
    "        (merged_data[\"Athlete Change %\"] < athlete_change_threshold)\n",
    "    ]\n",
    "    return potential\n"
   ]
  },
  {
   "cell_type": "code",
   "execution_count": 19,
   "metadata": {},
   "outputs": [],
   "source": [
    "def visualize_medal_trends(data, country, sport, gender):\n",
    "    \"\"\"\n",
    "    Plots medal counts over years for a specific country, sport, and gender.\n",
    "    \"\"\"\n",
    "    subset = data[\n",
    "        (data[\"Country\"] == country) &\n",
    "        (data[\"Sport\"] == sport) &\n",
    "        (data[\"Gender\"] == gender)\n",
    "    ]\n",
    "    \n",
    "    # Aggregate medal counts\n",
    "    medal_trend = subset[subset[\"Medal\"] != \"No medal\"].groupby(\"Year\")[\"Medal\"].count().reset_index(name=\"Medal Count\")\n",
    "    \n",
    "    # Plot\n",
    "    plt.figure(figsize=(10, 6))\n",
    "    sns.lineplot(data=medal_trend, x=\"Year\", y=\"Medal Count\", marker=\"o\")\n",
    "    plt.title(f\"{country} - {sport} - {'Men' if gender == 'M' else 'Women'} Medal Counts Over Years\")\n",
    "    plt.xlabel(\"Year\")\n",
    "    plt.ylabel(\"Number of Medals\")\n",
    "    plt.grid(True)\n",
    "    plt.tight_layout()\n",
    "    \n",
    "    # Save the figure\n",
    "    figure_path = os.path.join('outputs', 'figures', f\"{country}_{sport}_{gender}_medal_trend.png\")\n",
    "    os.makedirs(os.path.dirname(figure_path), exist_ok=True)\n",
    "    plt.savefig(figure_path)\n",
    "    plt.close()\n",
    "    print(f\"Figure saved to {figure_path}\")\n"
   ]
  },
  {
   "cell_type": "code",
   "execution_count": 20,
   "metadata": {},
   "outputs": [],
   "source": [
    "def visualize_medal_trends(data, country, sport, gender):\n",
    "    \"\"\"\n",
    "    Plots medal counts over years for a specific country, sport, and gender.\n",
    "    \"\"\"\n",
    "    subset = data[\n",
    "        (data[\"Country\"] == country) &\n",
    "        (data[\"Sport\"] == sport) &\n",
    "        (data[\"Gender\"] == gender)\n",
    "    ]\n",
    "    \n",
    "    # Aggregate medal counts\n",
    "    medal_trend = subset[subset[\"Medal\"] != \"No medal\"].groupby(\"Year\")[\"Medal\"].count().reset_index(name=\"Medal Count\")\n",
    "    \n",
    "    # Plot\n",
    "    plt.figure(figsize=(10, 6))\n",
    "    sns.lineplot(data=medal_trend, x=\"Year\", y=\"Medal Count\", marker=\"o\")\n",
    "    plt.title(f\"{country} - {sport} - {'Men' if gender == 'M' else 'Women'} Medal Counts Over Years\")\n",
    "    plt.xlabel(\"Year\")\n",
    "    plt.ylabel(\"Number of Medals\")\n",
    "    plt.grid(True)\n",
    "    plt.tight_layout()\n",
    "    \n",
    "    # Save the figure\n",
    "    figure_path = os.path.join('outputs', 'figures', f\"{country}_{sport}_{gender}_medal_trend.png\")\n",
    "    os.makedirs(os.path.dirname(figure_path), exist_ok=True)\n",
    "    plt.savefig(figure_path)\n",
    "    plt.close()\n",
    "    print(f\"Figure saved to {figure_path}\")\n"
   ]
  },
  {
   "cell_type": "code",
   "execution_count": 21,
   "metadata": {},
   "outputs": [
    {
     "ename": "ModuleNotFoundError",
     "evalue": "No module named 'data_processing'",
     "output_type": "error",
     "traceback": [
      "\u001b[0;31m---------------------------------------------------------------------------\u001b[0m",
      "\u001b[0;31mModuleNotFoundError\u001b[0m                       Traceback (most recent call last)",
      "Cell \u001b[0;32mIn[21], line 2\u001b[0m\n\u001b[1;32m      1\u001b[0m \u001b[38;5;66;03m# Load and prepare data\u001b[39;00m\n\u001b[0;32m----> 2\u001b[0m data \u001b[38;5;241m=\u001b[39m \u001b[43mload_and_prepare_data\u001b[49m\u001b[43m(\u001b[49m\u001b[43m)\u001b[49m\n\u001b[1;32m      4\u001b[0m \u001b[38;5;66;03m# Aggregate medal counts\u001b[39;00m\n\u001b[1;32m      5\u001b[0m medal_counts \u001b[38;5;241m=\u001b[39m aggregate_medal_counts(data)\n",
      "Cell \u001b[0;32mIn[13], line 12\u001b[0m, in \u001b[0;36mload_and_prepare_data\u001b[0;34m()\u001b[0m\n\u001b[1;32m      9\u001b[0m \u001b[38;5;66;03m# Load combined data\u001b[39;00m\n\u001b[1;32m     10\u001b[0m \u001b[38;5;28;01mif\u001b[39;00m \u001b[38;5;129;01mnot\u001b[39;00m os\u001b[38;5;241m.\u001b[39mpath\u001b[38;5;241m.\u001b[39mexists(combined_path):\n\u001b[1;32m     11\u001b[0m     \u001b[38;5;66;03m# If combined data doesn't exist, run data_processing.py or handle accordingly\u001b[39;00m\n\u001b[0;32m---> 12\u001b[0m     \u001b[38;5;28;01mfrom\u001b[39;00m \u001b[38;5;21;01mdata_processing\u001b[39;00m \u001b[38;5;28;01mimport\u001b[39;00m main \u001b[38;5;28;01mas\u001b[39;00m data_processing_main\n\u001b[1;32m     13\u001b[0m     data_processing_main()\n\u001b[1;32m     15\u001b[0m data \u001b[38;5;241m=\u001b[39m pd\u001b[38;5;241m.\u001b[39mread_csv(combined_path)\n",
      "\u001b[0;31mModuleNotFoundError\u001b[0m: No module named 'data_processing'"
     ]
    }
   ],
   "source": [
    "# Load and prepare data\n",
    "data = load_and_prepare_data()\n",
    "\n",
    "# Aggregate medal counts\n",
    "medal_counts = aggregate_medal_counts(data)\n",
    "\n",
    "# Calculate percentage change in medals\n",
    "medal_counts = calculate_percentage_change(medal_counts)\n",
    "\n",
    "# Identify significant increases in medal counts\n",
    "significant_increases = identify_significant_increases(medal_counts, threshold=50)\n",
    "\n",
    "# Aggregate athlete counts\n",
    "athlete_counts = aggregate_athlete_counts(data)\n",
    "\n",
    "# Calculate percentage change in athlete participation\n",
    "athlete_counts = calculate_athlete_percentage_change(athlete_counts)\n",
    "\n",
    "# Merge medal and athlete counts\n",
    "merged_data = merge_medal_athlete_counts(medal_counts, athlete_counts)\n",
    "\n",
    "# Filter for potential 'great coach' effects\n",
    "potential_coach_effect = filter_potential_coach_effect(\n",
    "    merged_data,\n",
    "    medal_increase_threshold=50,\n",
    "    athlete_change_threshold=10\n",
    ")\n",
    "\n",
    "# Estimate coach impact\n",
    "estimated_impact = estimate_coach_impact(potential_coach_effect)\n",
    "\n",
    "# Save the results\n",
    "output_path = os.path.join('outputs', 'reports', 'potential_coach_effect.csv')\n",
    "os.makedirs(os.path.dirname(output_path), exist_ok=True)\n",
    "estimated_impact.to_csv(output_path, index=False)\n",
    "print(f\"Potential coach effects saved to {output_path}\")\n",
    "\n",
    "# Visualization (Example: Plotting for a specific group)\n",
    "# Replace with dynamic selection based on actual data\n",
    "if not estimated_impact.empty:\n",
    "    example = estimated_impact.iloc[0]\n",
    "    visualize_medal_trends(\n",
    "        data,\n",
    "        country=example[\"Country\"],\n",
    "        sport=example[\"Sport\"],\n",
    "        gender=example[\"Gender\"]\n",
    "    )\n",
    "\n",
    "# Further analysis and recommendations can be added here"
   ]
  }
 ],
 "metadata": {
  "kernelspec": {
   "display_name": "Python 3",
   "language": "python",
   "name": "python3"
  },
  "language_info": {
   "codemirror_mode": {
    "name": "ipython",
    "version": 3
   },
   "file_extension": ".py",
   "mimetype": "text/x-python",
   "name": "python",
   "nbconvert_exporter": "python",
   "pygments_lexer": "ipython3",
   "version": "3.12.4"
  }
 },
 "nbformat": 4,
 "nbformat_minor": 2
}
